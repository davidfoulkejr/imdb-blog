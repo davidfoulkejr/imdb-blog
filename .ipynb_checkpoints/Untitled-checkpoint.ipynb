{
 "cells": [
  {
   "cell_type": "code",
   "execution_count": 167,
   "metadata": {},
   "outputs": [],
   "source": [
    "import requests, ssl, re, sys\n",
    "from bs4 import BeautifulSoup\n",
    "\n",
    "root_url = \"https://www.imdb.com/title/tt5013056/?ref_=nv_sr_1\""
   ]
  },
  {
   "cell_type": "code",
   "execution_count": 168,
   "metadata": {},
   "outputs": [],
   "source": [
    "class Movie:\n",
    "    def __init__(self, url):\n",
    "        self.url = url\n",
    "        self.title = ''\n",
    "        self.year = ''\n",
    "        self.genres = []\n",
    "        self.rating = ''\n",
    "        self.duration = ''\n",
    "        self.summary = ''\n",
    "        self.director = ''\n",
    "        self.writer = ''\n",
    "        self.cast = []\n",
    "        self.producers = []\n",
    "        self.exec_producers = []\n",
    "        self.imdb_score = 0.0\n",
    "        self.rt_critic_score = 0\n",
    "        self.rt_audience_score = 0\n",
    "        \n",
    "    def __str__(self):\n",
    "        return self.title + ' (' + self.year + ')'"
   ]
  },
  {
   "cell_type": "code",
   "execution_count": 189,
   "metadata": {},
   "outputs": [],
   "source": [
    "def get_soup(movie_url):\n",
    "    try: \n",
    "        html = requests.get(movie_url).content\n",
    "        soup = BeautifulSoup(html, 'html.parser')\n",
    "        return soup\n",
    "    except:\n",
    "        print(\"error getting movie\")\n",
    "        return None"
   ]
  },
  {
   "cell_type": "code",
   "execution_count": 190,
   "metadata": {},
   "outputs": [],
   "source": [
    "# Get HTML parser object\n",
    "soup = get_soup(root_url)\n",
    "if not soup:\n",
    "    print(\"Exiting at {}\".format(root_url))\n",
    "    sys.exit()\n",
    "\n",
    "# If successful, create Movie object\n",
    "movie = Movie(root_url)"
   ]
  },
  {
   "cell_type": "code",
   "execution_count": 191,
   "metadata": {},
   "outputs": [],
   "source": [
    "# Get HTML element referring to movie headline\n",
    "movie_header = soup.select('.title_wrapper')[0]"
   ]
  },
  {
   "cell_type": "code",
   "execution_count": 192,
   "metadata": {},
   "outputs": [],
   "source": [
    "# Get title and year\n",
    "headline = movie_header.h1.text\n",
    "movie.title = ' '.join(headline.split('\\xa0')[:-1])\n",
    "movie.year = headline.split('\\xa0')[-1].strip()[1:-1]"
   ]
  },
  {
   "cell_type": "code",
   "execution_count": 193,
   "metadata": {},
   "outputs": [],
   "source": [
    "# Get rating\n",
    "info = movie_header.select('div.subtext')[0]\n",
    "movie.rating = info.contents[0].strip()"
   ]
  },
  {
   "cell_type": "code",
   "execution_count": 194,
   "metadata": {},
   "outputs": [],
   "source": [
    "# Get duration\n",
    "time_tag = info.find('time')\n",
    "\n",
    "try:\n",
    "    duration = re.match(\"PT(?P<duration>\\d+)M\", time_tag['datetime']).group('duration')\n",
    "except:\n",
    "    timestamp = time_tag.text.strip()\n",
    "    hours, minutes = timestamp.split(' ')\n",
    "    hours = int(hours[:-1])\n",
    "    minutes = int(minutes[:-3])\n",
    "    duration = hours * 60 + minutes\n",
    "\n",
    "movie.duration = duration"
   ]
  },
  {
   "cell_type": "code",
   "execution_count": 195,
   "metadata": {},
   "outputs": [],
   "source": [
    "# Get genres\n",
    "for tag in movie_header.find_all('a'):\n",
    "    if '?genres=' in tag['href']:\n",
    "        movie.genres.append(tag.text.strip())"
   ]
  },
  {
   "cell_type": "code",
   "execution_count": 196,
   "metadata": {},
   "outputs": [],
   "source": [
    "# Get HTML element referring to movie details\n",
    "movie_details = soup.select('.plot_summary')[0]"
   ]
  },
  {
   "cell_type": "code",
   "execution_count": 197,
   "metadata": {},
   "outputs": [],
   "source": [
    "# Get summary\n",
    "movie.summary = movie_details.select('div.summary_text')[0].text.strip()"
   ]
  },
  {
   "cell_type": "code",
   "execution_count": 198,
   "metadata": {},
   "outputs": [],
   "source": [
    "# Get other details\n",
    "details = [el.text.strip().split('\\n') for el in movie_details.find_all('div')[1:]]\n",
    "for item in details:\n",
    "    if 'Director' in item[0]:\n",
    "        directors = [d.strip() for d in item[1].split(',')]\n",
    "        movie.director = directors if len(directors) > 1 else directors[0]\n",
    "    elif 'Writer' in item[0]:\n",
    "        writers = [w.strip() for w in item[1].split(',')]\n",
    "        movie.writer = writers if len(writers) > 1 else writers[0]\n",
    "    elif 'Stars' in item[0]:\n",
    "        cast = [actor.strip() for actor in item[1].split(',')]\n",
    "        if '|' in cast[-1]:\n",
    "            cast[-1] = ' '.join(cast[-1].split(' ')[:-1])\n",
    "        movie.cast = cast"
   ]
  },
  {
   "cell_type": "code",
   "execution_count": 199,
   "metadata": {},
   "outputs": [],
   "source": [
    "# Get IMDB score\n",
    "score_text = soup.select('div.imdbRating')[0].select('div.ratingValue')[0].text.strip()\n",
    "movie.imdb_score = score_text.split('/')[0]"
   ]
  },
  {
   "cell_type": "code",
   "execution_count": 204,
   "metadata": {},
   "outputs": [
    {
     "name": "stdout",
     "output_type": "stream",
     "text": [
      "1958\n"
     ]
    }
   ],
   "source": [
    "# Get Rotten Tomatoes scores\n",
    "movie_slug = '_'.join(movie.title.split(' ')).lower()\n",
    "url = 'http://www.rottentomatoes.com/m/{}'.format(movie_slug)\n",
    "rt_soup = get_soup(url)\n",
    "def check_rt_year(soup):\n",
    "    year = rt_soup.select('.h3.year')[0].text.strip()\n",
    "    if year[0] == '(':\n",
    "        year = year[1:]\n",
    "    if year[-1] == ')':\n",
    "        year = year[:-1]\n",
    "    return year\n",
    "\n",
    "if check_year"
   ]
  },
  {
   "cell_type": "code",
   "execution_count": 186,
   "metadata": {},
   "outputs": [
    {
     "name": "stdout",
     "output_type": "stream",
     "text": [
      "CURRENT MOVIE\n",
      "{'url': 'https://www.imdb.com/title/tt5013056/?ref_=nv_sr_1', 'title': 'Dunkirk', 'year': '2017', 'genres': ['Action', 'Drama', 'History'], 'rating': 'PG-13', 'duration': '106', 'summary': 'Allied soldiers from Belgium, the British Empire and France are surrounded by the German Army, and evacuated during a fierce battle in World War II.', 'director': 'Christopher Nolan', 'writer': 'Christopher Nolan', 'cast': ['Fionn Whitehead', 'Barry Keoghan', 'Mark Rylance'], 'producers': [], 'exec_producers': [], 'imdb_score': '7.9', 'rt_critic_score': 0, 'rt_audience_score': 0, 'score': '7.9'}\n"
     ]
    }
   ],
   "source": [
    "print(\"CURRENT MOVIE\")\n",
    "print(vars(movie))\n",
    "# print(\"\")\n",
    "# print(\"CURRENT DOM ELEMENT\")\n",
    "# print(movie_header.prettify())"
   ]
  },
  {
   "cell_type": "code",
   "execution_count": null,
   "metadata": {},
   "outputs": [],
   "source": []
  }
 ],
 "metadata": {
  "kernelspec": {
   "display_name": "Python 3",
   "language": "python",
   "name": "python3"
  },
  "language_info": {
   "codemirror_mode": {
    "name": "ipython",
    "version": 3
   },
   "file_extension": ".py",
   "mimetype": "text/x-python",
   "name": "python",
   "nbconvert_exporter": "python",
   "pygments_lexer": "ipython3",
   "version": "3.7.0"
  }
 },
 "nbformat": 4,
 "nbformat_minor": 2
}
